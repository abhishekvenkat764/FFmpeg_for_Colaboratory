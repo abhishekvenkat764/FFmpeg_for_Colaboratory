{
 "cells": [
  {
   "cell_type": "markdown",
   "metadata": {},
   "source": [
    "<h2>FFmpeg for Google Colaboratory</h2>"
   ]
  },
  {
   "cell_type": "markdown",
   "metadata": {},
   "source": [
    "<h3>Installing the FFmpeg in the Colaboratory.</h3>\n",
    "\n",
    "- Code for the installation on Colab obtained from: https://colab.research.google.com/github/yunooooo/FFmpeg-for-Google-Drive/blob/master/FFmpeg.ipynb"
   ]
  },
  {
   "cell_type": "code",
   "execution_count": null,
   "metadata": {
    "colab": {
     "base_uri": "https://localhost:8080/",
     "height": 73
    },
    "executionInfo": {
     "elapsed": 53563,
     "status": "ok",
     "timestamp": 1622073820446,
     "user": {
      "displayName": "Abhishek Iyer",
      "photoUrl": "",
      "userId": "05946228614044923540"
     },
     "user_tz": -60
    },
    "id": "2FL7IAuGIGh8",
    "outputId": "5bb11973-8628-4fda-e62d-a6502b59292c"
   },
   "outputs": [],
   "source": [
    "#@title <font size=\"5\">← ឵឵<i>Upgrade FFmpeg to v4.2.2</font> { vertical-output: true }\n",
    "from IPython.display import clear_output\n",
    "import os, urllib.request\n",
    "HOME = os.path.expanduser(\"~\")\n",
    "pathDoneCMD = f'{HOME}/doneCMD.sh'\n",
    "if not os.path.exists(f\"{HOME}/.ipython/ttmg.py\"):\n",
    "    hCode = \"https://raw.githubusercontent.com/yunooooo/gcct/master/res/ttmg.py\"\n",
    "    urllib.request.urlretrieve(hCode, f\"{HOME}/.ipython/ttmg.py\")\n",
    "\n",
    "from ttmg import (\n",
    "    loadingAn,\n",
    "    textAn,\n",
    ")\n",
    "\n",
    "loadingAn(name=\"lds\")\n",
    "textAn(\"Installing Dependencies...\", ty='twg')\n",
    "os.system('pip install git+git://github.com/AWConant/jikanpy.git')\n",
    "os.system('add-apt-repository -y ppa:jonathonf/ffmpeg-4')\n",
    "os.system('apt-get update')\n",
    "os.system('apt install mediainfo')\n",
    "os.system('apt-get install ffmpeg')\n",
    "clear_output()\n",
    "print('Installation finished.')"
   ]
  },
  {
   "cell_type": "markdown",
   "metadata": {},
   "source": [
    "<h3>Mount Google Drive.</h3>"
   ]
  },
  {
   "cell_type": "code",
   "execution_count": null,
   "metadata": {
    "colab": {
     "base_uri": "https://localhost:8080/"
    },
    "executionInfo": {
     "elapsed": 41059,
     "status": "ok",
     "timestamp": 1622073970802,
     "user": {
      "displayName": "Abhishek Iyer",
      "photoUrl": "",
      "userId": "05946228614044923540"
     },
     "user_tz": -60
    },
    "id": "Nep5nYwNIG_m",
    "outputId": "f7d5e1dc-3293-4c5b-8b2f-fa5287da7491"
   },
   "outputs": [],
   "source": [
    "from google.colab import drive\n",
    "drive.mount('/content/drive')"
   ]
  },
  {
   "cell_type": "markdown",
   "metadata": {},
   "source": [
    "<h3>pip installing the following into Google Colab:</h3>      \n",
    "\n",
    "- ffmpeg-python    \n",
    "- probe"
   ]
  },
  {
   "cell_type": "code",
   "execution_count": null,
   "metadata": {
    "colab": {
     "base_uri": "https://localhost:8080/",
     "height": 207
    },
    "executionInfo": {
     "elapsed": 2553,
     "status": "ok",
     "timestamp": 1622076388950,
     "user": {
      "displayName": "Abhishek Iyer",
      "photoUrl": "",
      "userId": "05946228614044923540"
     },
     "user_tz": -60
    },
    "id": "AUwDq7_kJNWz",
    "outputId": "dd030ab1-5743-4750-c487-cf6efd5490cf",
    "scrolled": true
   },
   "outputs": [],
   "source": [
    "!pip install ffmpeg-python probe"
   ]
  },
  {
   "cell_type": "markdown",
   "metadata": {},
   "source": [
    "<h3>Run the following code to ensure that Google Colab does not disconnect frequently.</h3>"
   ]
  },
  {
   "cell_type": "code",
   "execution_count": null,
   "metadata": {
    "colab": {
     "base_uri": "https://localhost:8080/",
     "height": 17
    },
    "executionInfo": {
     "elapsed": 312,
     "status": "ok",
     "timestamp": 1622076577209,
     "user": {
      "displayName": "Abhishek Iyer",
      "photoUrl": "",
      "userId": "05946228614044923540"
     },
     "user_tz": -60
    },
    "id": "dGuONFfSTEf8",
    "outputId": "97df88f9-9f94-4a7b-8fc5-ebbb5f065bfe"
   },
   "outputs": [],
   "source": [
    "%%javascript\n",
    "function ClickConnect(){\n",
    "console.log(\"Working\");\n",
    "document.querySelector(\"colab-toolbar-button#connect\").click()\n",
    "}setInterval(ClickConnect,60000)"
   ]
  },
  {
   "cell_type": "markdown",
   "metadata": {},
   "source": [
    "<h3>Importing all the necessary headers.</h3>"
   ]
  },
  {
   "cell_type": "code",
   "execution_count": 8,
   "metadata": {
    "executionInfo": {
     "elapsed": 211,
     "status": "ok",
     "timestamp": 1622076699253,
     "user": {
      "displayName": "Abhishek Iyer",
      "photoUrl": "",
      "userId": "05946228614044923540"
     },
     "user_tz": -60
    },
    "id": "D3LyAvoGIDQR"
   },
   "outputs": [],
   "source": [
    "#Importing the necessary headers\n",
    "import os\n",
    "import subprocess\n",
    "import ffmpeg\n",
    "import cv2"
   ]
  },
  {
   "cell_type": "markdown",
   "metadata": {
    "id": "etbML--xIDQX"
   },
   "source": [
    "<h3>All your Declarations go here.</h3>"
   ]
  },
  {
   "cell_type": "code",
   "execution_count": 14,
   "metadata": {
    "executionInfo": {
     "elapsed": 256,
     "status": "ok",
     "timestamp": 1622076769164,
     "user": {
      "displayName": "Abhishek Iyer",
      "photoUrl": "",
      "userId": "05946228614044923540"
     },
     "user_tz": -60
    },
    "id": "XJQRYgj1IDQX"
   },
   "outputs": [],
   "source": [
    "#Defining the root media input and output directory.\n",
    "rootmediadir = r'drive/MyDrive/SPOTS'\n",
    "outputdir = r'drive/MyDrive/DUMMY_OUTPUTS'\n",
    "\n",
    "#resolutionMultiplier can be used to multiply the resolution of the height and width of the output file.\n",
    "resolutionMultiplier = 1\n",
    "\n",
    "#Format specifier, please use only \"mpg\" /  \"mp4\" as the input.\n",
    "outputFormat = \"mp4\"\n",
    "\n",
    "#BitrateMultiplier is used to multiply the pre-calculated minimum best bitrate.\n",
    "BitrateMultiplier = 3"
   ]
  },
  {
   "cell_type": "markdown",
   "metadata": {
    "id": "Jm7ieS8-IDQY"
   },
   "source": [
    "<h3>The code does its stuff from here.</h3>"
   ]
  },
  {
   "cell_type": "code",
   "execution_count": 16,
   "metadata": {
    "executionInfo": {
     "elapsed": 9,
     "status": "ok",
     "timestamp": 1622076769920,
     "user": {
      "displayName": "Abhishek Iyer",
      "photoUrl": "",
      "userId": "05946228614044923540"
     },
     "user_tz": -60
    },
    "id": "2ZBmcFIEIDQZ"
   },
   "outputs": [],
   "source": [
    "def videoDetails(filename):\n",
    "    \n",
    "    #The imported cv2 is utilizied here.\n",
    "    video = cv2.VideoCapture(filename)\n",
    "\n",
    "    #Fetching the frame count.\n",
    "    frame_count = video.get(cv2.CAP_PROP_FRAME_COUNT)\n",
    "    \n",
    "    #Fetching the fps.\n",
    "    fps = video.get(cv2.CAP_PROP_FPS)\n",
    "    \n",
    "    #Fetching the width of the video as a float.\n",
    "    width = video.get(3)\n",
    "    \n",
    "    #Fetching the height of the video as a float.\n",
    "    height = video.get(4)\n",
    "\n",
    "    #Returning the duration, height and width of the video.\n",
    "    return frame_count / fps , height, width"
   ]
  },
  {
   "cell_type": "code",
   "execution_count": 17,
   "metadata": {
    "executionInfo": {
     "elapsed": 6,
     "status": "ok",
     "timestamp": 1622076769921,
     "user": {
      "displayName": "Abhishek Iyer",
      "photoUrl": "",
      "userId": "05946228614044923540"
     },
     "user_tz": -60
    },
    "id": "_3rQfdAJIDQa"
   },
   "outputs": [],
   "source": [
    "def compress_video(videoPath, ouputFileName, TargetSize, resolutionVideo):\n",
    "    \n",
    "    # The Reference to encoding bitrates : https://en.wikipedia.org/wiki/Bit_rate#Encoding_bit_rate\n",
    "    # The following is the min and max audio bitrate, choose as required.\n",
    "    minAudioBitrate = 8000\n",
    "    maxAudioBitrate = 16000\n",
    "    probe = ffmpeg.probe(videoPath)\n",
    "    \n",
    "    # The Video duration is measured in seconds.\n",
    "    duration = float(probe['format']['duration'])\n",
    "    \n",
    "    # The Audio bitrate is measured in in bps.\n",
    "    AudioBitrate = float(next((s for s in probe['streams'] if s['codec_type'] == 'audio'), None)['bit_rate'])\n",
    "    \n",
    "    # Target total bitrate is obtained by the following formula in bps.\n",
    "    targetTotalBitrate = (TargetSize * 1024 * 8) / (1.073741824 * duration)\n",
    "\n",
    "    # Target audio bitrate is measured in bps.\n",
    "    if 10 * AudioBitrate > targetTotalBitrate:\n",
    "        AudioBitrate = targetTotalBitrate / 10\n",
    "        if AudioBitrate < minAudioBitrate < targetTotalBitrate:\n",
    "            AudioBitrate = minAudioBitrate\n",
    "        elif AudioBitrate > maxAudioBitrate:\n",
    "            AudioBitrate = maxAudioBitrate\n",
    "            \n",
    "    # Target video bitrate, in bps.\n",
    "    videoBitrate = targetTotalBitrate - AudioBitrate\n",
    "\n",
    "    i = ffmpeg.input(videoPath)\n",
    "    \n",
    "    if outputFormat == 'mp4':    \n",
    "        #First pass\n",
    "        ffmpeg.output(i, '/dev/null' if os.path.exists('/dev/null') else 'NUL',\n",
    "                      **{'c:v': 'libx264', 'b:v': videoBitrate, 'pass': 1, 'f': 'mp4' , 's' : resolutionVideo}\n",
    "                      ).overwrite_output().run()\n",
    "        #Second pass to improve quality of output.\n",
    "        ffmpeg.output(i, ouputFileName,\n",
    "                      **{'c:v': 'libx264', 'b:v': videoBitrate, 'pass': 2 , 's' : resolutionVideo}\n",
    "                      ).overwrite_output().run()\n",
    "        \n",
    "    elif outputFormat == 'mpg':    \n",
    "        #First pass\n",
    "        ffmpeg.output(i, '/dev/null' if os.path.exists('/dev/null') else 'NUL',\n",
    "                      **{'c:v': 'libx264', 'b:v': videoBitrate, 'pass': 1, 'f': 'MPEG' , 's' : resolutionVideo}\n",
    "                      ).overwrite_output().run()\n",
    "        #Second pass to improve quality of output.\n",
    "        ffmpeg.output(i, ouputFileName,\n",
    "                      **{'c:v': 'libx264', 'b:v': videoBitrate, 'pass': 2 , 's' : resolutionVideo}\n",
    "                      ).overwrite_output().run()\n",
    "        \n",
    "    else:\n",
    "        print('ERROR - Please provide the outputFormat as either mp4 or mpg, sorry about the inconvenience. :-) ')"
   ]
  },
  {
   "cell_type": "code",
   "execution_count": null,
   "metadata": {
    "colab": {
     "base_uri": "https://localhost:8080/",
     "height": 561
    },
    "executionInfo": {
     "elapsed": 85158,
     "status": "error",
     "timestamp": 1622076855074,
     "user": {
      "displayName": "Abhishek Iyer",
      "photoUrl": "",
      "userId": "05946228614044923540"
     },
     "user_tz": -60
    },
    "id": "fT0mrR_WIDQc",
    "outputId": "044d7dcd-0503-420d-ae35-dc97c9e02471"
   },
   "outputs": [],
   "source": [
    "#Obtaining the files and converting them.\n",
    "#Fetching all directories and subdirectories in rootmediadir.\n",
    "for subdirs, dirs, files in os.walk(rootmediadir):\n",
    "    \n",
    "    #Fetching each file.\n",
    "    for file in files:\n",
    "        \n",
    "        media_in = subdirs + \"/\" + file\n",
    "        \n",
    "        if os.path.splitext(file)[1] == '.mpg':\n",
    "          print('\\n___________________________________')\n",
    "          print('Processing NOW - ', file)\n",
    "        \n",
    "          #Obtaining the duration, height and width of the video file.\n",
    "          duration, height, width = videoDetails(media_in)\n",
    "        \n",
    "          best_min_size = ((32000 + 100000) * (1.073741824 * duration) / (8 * 1024)) * BitrateMultiplier\n",
    "        \n",
    "          resolutionVideo = str(int(width)*resolutionMultiplier) + 'x' + str(int(height)*resolutionMultiplier)\n",
    "          filename = os.path.splitext(file)[0]\n",
    "          compress_video(media_in, outputdir + '/' + 'output_' + filename + '.' + outputFormat, best_min_size, resolutionVideo)\n",
    "        \n",
    "          print('Processing COMPLETED - ', 'output_' + filename + '.' + outputFormat)\n",
    "          print('___________________________________')\n",
    "\n",
    "        else:\n",
    "          print('This file is not in .mpg format, the file name is: ', file)\n",
    "\n",
    "\n",
    "#Printing the output directory.\n",
    "print('\\nThe converted output files can be found in:\\n', outputdir ,'\\n')"
   ]
  }
 ],
 "metadata": {
  "accelerator": "GPU",
  "colab": {
   "collapsed_sections": [],
   "name": "VideoConvertor_v2_2.ipynb",
   "provenance": []
  },
  "kernelspec": {
   "display_name": "Python 3",
   "language": "python",
   "name": "python3"
  },
  "language_info": {
   "codemirror_mode": {
    "name": "ipython",
    "version": 3
   },
   "file_extension": ".py",
   "mimetype": "text/x-python",
   "name": "python",
   "nbconvert_exporter": "python",
   "pygments_lexer": "ipython3",
   "version": "3.8.5"
  }
 },
 "nbformat": 4,
 "nbformat_minor": 1
}
